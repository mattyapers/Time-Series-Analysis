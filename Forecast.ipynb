{
 "cells": [
  {
   "cell_type": "code",
   "execution_count": 2,
   "metadata": {},
   "outputs": [
    {
     "name": "stdout",
     "output_type": "stream",
     "text": [
      "Collecting git+https://github.com/Commonists/pageview-api.git\n",
      "  Cloning https://github.com/Commonists/pageview-api.git to /private/var/folders/j4/966kp7993zbg6qtqpyvl3qyc0000gn/T/pip-req-build-cjjdsv2u\n",
      "  Running command git clone --filter=blob:none --quiet https://github.com/Commonists/pageview-api.git /private/var/folders/j4/966kp7993zbg6qtqpyvl3qyc0000gn/T/pip-req-build-cjjdsv2u\n",
      "  Resolved https://github.com/Commonists/pageview-api.git to commit 39e8b3c3c82f64a500e3dd4f306451c81c7e31b7\n",
      "  Preparing metadata (setup.py) ... \u001b[?25ldone\n",
      "\u001b[?25hRequirement already satisfied: requests in /Users/jeff/anaconda3/lib/python3.10/site-packages (from pageviewapi===Undefined) (2.28.1)\n",
      "Collecting attrdict\n",
      "  Downloading attrdict-2.0.1-py2.py3-none-any.whl (9.9 kB)\n",
      "Requirement already satisfied: six in /Users/jeff/anaconda3/lib/python3.10/site-packages (from attrdict->pageviewapi===Undefined) (1.16.0)\n",
      "Requirement already satisfied: certifi>=2017.4.17 in /Users/jeff/anaconda3/lib/python3.10/site-packages (from requests->pageviewapi===Undefined) (2022.12.7)\n",
      "Requirement already satisfied: urllib3<1.27,>=1.21.1 in /Users/jeff/anaconda3/lib/python3.10/site-packages (from requests->pageviewapi===Undefined) (1.26.15)\n",
      "Requirement already satisfied: idna<4,>=2.5 in /Users/jeff/anaconda3/lib/python3.10/site-packages (from requests->pageviewapi===Undefined) (3.4)\n",
      "Requirement already satisfied: charset-normalizer<3,>=2 in /Users/jeff/anaconda3/lib/python3.10/site-packages (from requests->pageviewapi===Undefined) (2.0.4)\n",
      "Building wheels for collected packages: pageviewapi\n",
      "  Building wheel for pageviewapi (setup.py) ... \u001b[?25ldone\n",
      "\u001b[?25h  Created wheel for pageviewapi: filename=pageviewapi-Undefined-py3-none-any.whl size=5293 sha256=8389909321e7d0e0effc683fadbd22b008f48c85ef6cd83aeb7e257764fb575f\n",
      "  Stored in directory: /private/var/folders/j4/966kp7993zbg6qtqpyvl3qyc0000gn/T/pip-ephem-wheel-cache-1z6eq1dh/wheels/12/34/94/97f2e03676eaa58649754719555052fc1cd461574b07824bb9\n",
      "\u001b[33m  WARNING: Built wheel for pageviewapi is invalid: Metadata 1.2 mandates PEP 440 version, but 'Undefined' is not\u001b[0m\u001b[33m\n",
      "\u001b[0mFailed to build pageviewapi\n",
      "Installing collected packages: attrdict, pageviewapi\n",
      "  Running setup.py install for pageviewapi ... \u001b[?25ldone\n",
      "\u001b[?25h\u001b[33m  DEPRECATION: pageviewapi was installed using the legacy 'setup.py install' method, because a wheel could not be built for it. pip 23.1 will enforce this behaviour change. A possible replacement is to fix the wheel build issue reported above. Discussion can be found at https://github.com/pypa/pip/issues/8368\u001b[0m\u001b[33m\n",
      "\u001b[0mSuccessfully installed attrdict-2.0.1 pageviewapi-Undefined\n",
      "Note: you may need to restart the kernel to use updated packages.\n"
     ]
    }
   ],
   "source": [
    "pip install git+https://github.com/Commonists/pageview-api.git"
   ]
  }
 ],
 "metadata": {
  "kernelspec": {
   "display_name": "Python 3.10.9 ('base')",
   "language": "python",
   "name": "python3"
  },
  "language_info": {
   "codemirror_mode": {
    "name": "ipython",
    "version": 3
   },
   "file_extension": ".py",
   "mimetype": "text/x-python",
   "name": "python",
   "nbconvert_exporter": "python",
   "pygments_lexer": "ipython3",
   "version": "3.10.9"
  },
  "orig_nbformat": 4,
  "vscode": {
   "interpreter": {
    "hash": "6a58a4343b3dbbfde1d9ed97ed0c2a9008c0566287c731642fccd2eb635dc45f"
   }
  }
 },
 "nbformat": 4,
 "nbformat_minor": 2
}
