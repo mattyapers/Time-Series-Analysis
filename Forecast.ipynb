{
 "cells": [
  {
   "cell_type": "code",
   "execution_count": 13,
   "metadata": {},
   "outputs": [
    {
     "name": "stdout",
     "output_type": "stream",
     "text": [
      "Collecting fake_useragent\n",
      "  Downloading fake_useragent-1.4.0-py3-none-any.whl (15 kB)\n",
      "Installing collected packages: fake_useragent\n",
      "Successfully installed fake_useragent-1.4.0\n",
      "Note: you may need to restart the kernel to use updated packages.\n"
     ]
    }
   ],
   "source": [
    "%pip install fake_useragent"
   ]
  },
  {
   "cell_type": "code",
   "execution_count": 18,
   "metadata": {},
   "outputs": [
    {
     "name": "stdout",
     "output_type": "stream",
     "text": [
      "    Timestamp  Views\n",
      "0  2015-10-01  18860\n",
      "1  2015-10-02  20816\n",
      "2  2015-10-03  16009\n",
      "3  2015-10-04  19494\n",
      "4  2015-10-05  21198\n",
      "5  2015-10-06  22515\n",
      "6  2015-10-07  22269\n",
      "7  2015-10-08  20835\n",
      "8  2015-10-09  18319\n",
      "9  2015-10-10  17088\n",
      "10 2015-10-11  18522\n",
      "11 2015-10-12  20251\n",
      "12 2015-10-13  20765\n",
      "13 2015-10-14  21677\n",
      "14 2015-10-15  20694\n",
      "15 2015-10-16  18597\n",
      "16 2015-10-17  19252\n",
      "17 2015-10-18  19257\n",
      "18 2015-10-19  22160\n",
      "19 2015-10-20  22280\n",
      "20 2015-10-21  23067\n",
      "21 2015-10-22  22469\n",
      "22 2015-10-23  19218\n",
      "23 2015-10-24  17942\n",
      "24 2015-10-25  20262\n",
      "25 2015-10-26  22290\n",
      "26 2015-10-27  23170\n",
      "27 2015-10-28  23288\n",
      "28 2015-10-29  24300\n",
      "29 2015-10-30  20720\n",
      "30 2015-10-31  16380\n"
     ]
    }
   ],
   "source": [
    "import requests\n",
    "from fake_useragent import UserAgent\n",
    "import json\n",
    "from datetime import datetime\n",
    "import pandas as pd\n",
    "\n",
    "user_agent = UserAgent()\n",
    "base_url = 'https://wikimedia.org/api/rest_v1/'\n",
    "\n",
    "### change the endpint accordingly\n",
    "endpoint = 'metrics/pageviews/per-article/en.wikipedia/all-access/all-agents/Albert_Einstein/daily/2015100100/2015103100'\n",
    "###\n",
    "url = base_url + endpoint\n",
    "headers = {'User-Agent': user_agent.random}\n",
    "data = json.loads(requests.get(url, headers=headers).text)\n",
    "\n",
    "timestamps = [entry['timestamp'] for entry in data['items']]\n",
    "views = [entry['views'] for entry in data['items']]\n",
    "\n",
    "date_objects = [datetime.strptime(ts, \"%Y%m%d%H\") for ts in timestamps]\n",
    "\n",
    "df = pd.DataFrame({'Timestamp': date_objects, 'Views': views})\n",
    "\n",
    "# Print the resulting DataFrame\n",
    "print(df)\n"
   ]
  },
  {
   "cell_type": "code",
   "execution_count": null,
   "metadata": {},
   "outputs": [],
   "source": []
  }
 ],
 "metadata": {
  "kernelspec": {
   "display_name": "Python 3.10.9 ('base')",
   "language": "python",
   "name": "python3"
  },
  "language_info": {
   "codemirror_mode": {
    "name": "ipython",
    "version": 3
   },
   "file_extension": ".py",
   "mimetype": "text/x-python",
   "name": "python",
   "nbconvert_exporter": "python",
   "pygments_lexer": "ipython3",
   "version": "3.10.9"
  },
  "orig_nbformat": 4,
  "vscode": {
   "interpreter": {
    "hash": "6a58a4343b3dbbfde1d9ed97ed0c2a9008c0566287c731642fccd2eb635dc45f"
   }
  }
 },
 "nbformat": 4,
 "nbformat_minor": 2
}
